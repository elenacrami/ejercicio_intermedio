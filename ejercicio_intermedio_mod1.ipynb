{
 "cells": [
  {
   "cell_type": "code",
   "execution_count": 1,
   "metadata": {},
   "outputs": [
    {
     "name": "stdout",
     "output_type": "stream",
     "text": [
      "8\n"
     ]
    }
   ],
   "source": [
    "prueba = 8\n",
    "print(prueba)"
   ]
  },
  {
   "cell_type": "markdown",
   "metadata": {},
   "source": [
    "PARTE 1: STRINGS"
   ]
  },
  {
   "cell_type": "markdown",
   "metadata": {},
   "source": [
    "EJERCICIO 1"
   ]
  },
  {
   "cell_type": "code",
   "execution_count": 4,
   "metadata": {},
   "outputs": [
    {
     "name": "stdout",
     "output_type": "stream",
     "text": [
      "1\n"
     ]
    }
   ],
   "source": [
    "cadena = \"Python es un lenguaje de programacion muy popular\"\n",
    "pregunta = str(input(\"Introduce la letra que deseas buscar\"))\n",
    "numero_veces = cadena.count(pregunta)\n",
    "print(numero_veces)"
   ]
  },
  {
   "cell_type": "markdown",
   "metadata": {},
   "source": [
    "EJERCICIO 2"
   ]
  },
  {
   "cell_type": "code",
   "execution_count": 5,
   "metadata": {},
   "outputs": [
    {
     "data": {
      "text/plain": [
       "'Python es fantastico. Python es facil de aprender'"
      ]
     },
     "execution_count": 5,
     "metadata": {},
     "output_type": "execute_result"
    }
   ],
   "source": [
    "cadena_2 = \"Python es genial. Python es facil de aprender\"\n",
    "reemplazar = str(input(\"Introduzca la palabra que desea reemplazar\"))\n",
    "reemplazada = str(input(\"Introduzca por que palabra desea reemplazarla\"))\n",
    "cadena_2.replace(reemplazar, reemplazada)"
   ]
  },
  {
   "cell_type": "markdown",
   "metadata": {},
   "source": [
    "EJERCICIO 3"
   ]
  },
  {
   "cell_type": "code",
   "execution_count": 21,
   "metadata": {},
   "outputs": [
    {
     "name": "stdout",
     "output_type": "stream",
     "text": [
      "Esta es la lista dividida de palabras: ['Este', 'es', 'nuestro,', 'primer', 'ejercicio', 'intermedio']\n",
      "Esta es la lista unida en una sola cadena de texto: Este es nuestro, primer ejercicio intermedio\n"
     ]
    }
   ],
   "source": [
    "cadena_3 = \"Este es nuestro, primer ejercicio intermedio\"\n",
    "cadena_3_split = cadena_3.split()\n",
    "lista_cadena_3 = list(cadena_3_split)\n",
    "print(\"Esta es la lista dividida de palabras:\", lista_cadena_3)\n",
    "lista_cadena_3_join = \" \".join(cadena_3_split)\n",
    "print(\"Esta es la lista unida en una sola cadena de texto:\", lista_cadena_3_join)\n"
   ]
  },
  {
   "cell_type": "markdown",
   "metadata": {},
   "source": [
    "EJERCICIO 4"
   ]
  },
  {
   "cell_type": "code",
   "execution_count": 22,
   "metadata": {},
   "outputs": [
    {
     "name": "stdout",
     "output_type": "stream",
     "text": [
      "El numero de palabras que contiene esta cadena es de: 7\n"
     ]
    }
   ],
   "source": [
    "cadena_4 = \"Esta es una cadena de cinco palabras\"\n",
    "numero_palabras = len(cadena_4.split())\n",
    "print(\"El numero de palabras que contiene esta cadena es de:\", numero_palabras)"
   ]
  },
  {
   "cell_type": "markdown",
   "metadata": {},
   "source": [
    "EJERCICIO 5"
   ]
  },
  {
   "cell_type": "code",
   "execution_count": 56,
   "metadata": {},
   "outputs": [
    {
     "name": "stdout",
     "output_type": "stream",
     "text": [
      "Esta es la oracion original: ['hola', 'que', 'tal']\n",
      "Esta es la oracion invertida: tal que hola\n"
     ]
    }
   ],
   "source": [
    "cadena_5 = str(input(\"Introduce aqui tu oracion\"))\n",
    "cadena_5_separada = cadena_5.split()\n",
    "print(\"Esta es la oracion original:\", cadena_5_separada)\n",
    "cadena_5_separada.reverse()\n",
    "cadena_5_invertida = \" \".join(cadena_5_separada)\n",
    "print(\"Esta es la oracion invertida:\", cadena_5_invertida)"
   ]
  },
  {
   "cell_type": "markdown",
   "metadata": {},
   "source": [
    "EJERCICIO 6"
   ]
  },
  {
   "cell_type": "code",
   "execution_count": 57,
   "metadata": {},
   "outputs": [
    {
     "ename": "TypeError",
     "evalue": "must be str, not list",
     "output_type": "error",
     "traceback": [
      "\u001b[0;31m---------------------------------------------------------------------------\u001b[0m",
      "\u001b[0;31mTypeError\u001b[0m                                 Traceback (most recent call last)",
      "Cell \u001b[0;32mIn[57], line 4\u001b[0m\n\u001b[1;32m      2\u001b[0m palabra_usuaria \u001b[38;5;241m=\u001b[39m \u001b[38;5;28mstr\u001b[39m(\u001b[38;5;28minput\u001b[39m(\u001b[38;5;124m\"\u001b[39m\u001b[38;5;124mIntroduce la palabra escogida de la frase anterior\u001b[39m\u001b[38;5;124m\"\u001b[39m))\n\u001b[1;32m      3\u001b[0m palabra_usuaria_separada \u001b[38;5;241m=\u001b[39m cadena_6\u001b[38;5;241m.\u001b[39msplit()\n\u001b[0;32m----> 4\u001b[0m posicion_palabra \u001b[38;5;241m=\u001b[39m cadena_6\u001b[38;5;241m.\u001b[39mindex(palabra_usuaria_separada)\n\u001b[1;32m      5\u001b[0m \u001b[38;5;28mprint\u001b[39m(\u001b[38;5;124m\"\u001b[39m\u001b[38;5;124mEsta es la posicion de la palabra escogida por la usuaria:\u001b[39m\u001b[38;5;124m\"\u001b[39m, posicion_palabra)\n",
      "\u001b[0;31mTypeError\u001b[0m: must be str, not list"
     ]
    }
   ],
   "source": [
    "cadena_6 = \"Aqui hace mucho calor en agosto\"\n",
    "palabra_usuaria = str(input(\"Introduce la palabra escogida de la frase anterior\"))\n",
    "palabra_usuaria_separada = cadena_6.split()\n",
    "posicion_palabra = cadena_6.index(palabra_usuaria_separada)\n",
    "print(\"Esta es la posicion de la palabra escogida por la usuaria:\", )"
   ]
  },
  {
   "cell_type": "markdown",
   "metadata": {},
   "source": [
    "PARTE 2: LISTAS"
   ]
  },
  {
   "cell_type": "markdown",
   "metadata": {},
   "source": [
    "EJERCICIO 1"
   ]
  },
  {
   "cell_type": "code",
   "execution_count": 27,
   "metadata": {},
   "outputs": [
    {
     "name": "stdout",
     "output_type": "stream",
     "text": [
      "a. La lista de frutas con el segundo elemento cambiado se lee: ['manzana', 'durazno', 'banana', 'uva', 'kiwi']\n",
      "b. La lista de frutas con 'naranja' al final de la lista se lee: ['manzana', 'durazno', 'banana', 'uva', 'kiwi', 'naranja']\n",
      "c. El tercer elemento de la lista es: banana\n"
     ]
    }
   ],
   "source": [
    "frutas = ['manzana', 'pera', 'banana', 'uva', 'kiwi']\n",
    "frutas[1] = 'durazno'\n",
    "print(\"a. La lista de frutas con el segundo elemento cambiado se lee:\", frutas)\n",
    "frutas.append('naranja')\n",
    "print(\"b. La lista de frutas con 'naranja' al final de la lista se lee:\", frutas)\n",
    "elemento_3_fruta = frutas[2]\n",
    "print(\"c. El tercer elemento de la lista es:\", elemento_3_fruta)\n"
   ]
  },
  {
   "cell_type": "markdown",
   "metadata": {},
   "source": [
    "EJERCICIO 2"
   ]
  },
  {
   "cell_type": "code",
   "execution_count": 61,
   "metadata": {},
   "outputs": [
    {
     "name": "stdout",
     "output_type": "stream",
     "text": [
      "Esta es la lista de numeros: [10, 25, 15, 30, 20]\n"
     ]
    }
   ],
   "source": [
    "numeros = [10, 25, 15, 30, 20]\n",
    "print(\"Esta es la lista de numeros:\", numeros)"
   ]
  },
  {
   "cell_type": "markdown",
   "metadata": {},
   "source": [
    "EJERCICIO 3"
   ]
  },
  {
   "cell_type": "code",
   "execution_count": 62,
   "metadata": {},
   "outputs": [
    {
     "name": "stdout",
     "output_type": "stream",
     "text": [
      "La lista de numeros con el nuevo valor agregado se lee: [35, 10, 25, 15, 30, 20]\n"
     ]
    }
   ],
   "source": [
    "numeros.insert(0,35)\n",
    "print(\"La lista de numeros con el nuevo valor agregado se lee:\", numeros)"
   ]
  },
  {
   "cell_type": "markdown",
   "metadata": {},
   "source": [
    "EJERCICIO 4"
   ]
  },
  {
   "cell_type": "code",
   "execution_count": 64,
   "metadata": {},
   "outputs": [
    {
     "name": "stdout",
     "output_type": "stream",
     "text": [
      "La lista ordenada en ascendente se lee: [10, 15, 20, 25, 30, 35]\n"
     ]
    }
   ],
   "source": [
    "numeros.sort()\n",
    "print(\"La lista ordenada en ascendente se lee:\", numeros)"
   ]
  },
  {
   "cell_type": "markdown",
   "metadata": {},
   "source": [
    "EJERCICIO 5"
   ]
  },
  {
   "cell_type": "code",
   "execution_count": 54,
   "metadata": {},
   "outputs": [
    {
     "name": "stdout",
     "output_type": "stream",
     "text": [
      "Esta es la uion de todos los elementos de las dos listas: [10, 15, 20, 25, 30, 35, 45, 22, 19, 38, 29]\n"
     ]
    }
   ],
   "source": [
    "numeros2 = [45, 22, 19, 38, 29]\n",
    "numeros3 = numeros + numeros2\n",
    "print(\"Esta es la uion de todos los elementos de las dos listas:\", numeros3)"
   ]
  },
  {
   "cell_type": "markdown",
   "metadata": {},
   "source": [
    "EJERCICIO 6"
   ]
  },
  {
   "cell_type": "code",
   "execution_count": 55,
   "metadata": {},
   "outputs": [
    {
     "name": "stdout",
     "output_type": "stream",
     "text": [
      "Esta es la lista con el ultimo elemento eliminado: [10, 15, 20, 25, 30, 35, 45, 22, 19, 38]\n"
     ]
    }
   ],
   "source": [
    "numeros3.pop()\n",
    "print(\"Esta es la lista con el ultimo elemento eliminado:\", numeros3)"
   ]
  },
  {
   "cell_type": "markdown",
   "metadata": {},
   "source": [
    "EJERCICIO 7"
   ]
  },
  {
   "cell_type": "code",
   "execution_count": 65,
   "metadata": {},
   "outputs": [
    {
     "name": "stdout",
     "output_type": "stream",
     "text": [
      "Esta es la lista con el numero 30 eliminado: [10, 15, 20, 25, 35, 45, 22, 19, 38]\n"
     ]
    }
   ],
   "source": [
    "numeros3.pop(4)\n",
    "print(\"Esta es la lista con el numero 30 eliminado:\", numeros3)"
   ]
  },
  {
   "cell_type": "markdown",
   "metadata": {},
   "source": [
    "PARTE 3: TUPLAS"
   ]
  },
  {
   "cell_type": "markdown",
   "metadata": {},
   "source": [
    "EJERCICIO 1"
   ]
  },
  {
   "cell_type": "code",
   "execution_count": 38,
   "metadata": {},
   "outputs": [
    {
     "name": "stdout",
     "output_type": "stream",
     "text": [
      "El tipo de variable de colores es: <class 'tuple'>\n"
     ]
    }
   ],
   "source": [
    "colores = (\"rojo\", \"verde\", \"azul\", \"amarillo\", \"morado\")\n",
    "print(\"El tipo de variable de colores es:\", type(colores))"
   ]
  },
  {
   "cell_type": "markdown",
   "metadata": {},
   "source": [
    "EJERCICIO 2"
   ]
  },
  {
   "cell_type": "code",
   "execution_count": 70,
   "metadata": {},
   "outputs": [
    {
     "name": "stdout",
     "output_type": "stream",
     "text": [
      "El indice del color verde en la tupla es el: 1\n"
     ]
    }
   ],
   "source": [
    "colores.index(\"verde\")\n",
    "print(\"El indice del color verde en la tupla es el:\", colores.index(\"verde\"))"
   ]
  },
  {
   "cell_type": "markdown",
   "metadata": {},
   "source": [
    "EJERCICIO 3"
   ]
  },
  {
   "cell_type": "code",
   "execution_count": 69,
   "metadata": {},
   "outputs": [
    {
     "name": "stdout",
     "output_type": "stream",
     "text": [
      "En la lista colores, azul aparece 1 vez\n"
     ]
    }
   ],
   "source": [
    "colores.count(\"azul\")\n",
    "print(\"En la lista colores, azul aparece\", colores.count(\"azul\"),\"vez\")"
   ]
  },
  {
   "cell_type": "markdown",
   "metadata": {},
   "source": [
    "EJERCICIO 4"
   ]
  },
  {
   "cell_type": "code",
   "execution_count": 71,
   "metadata": {},
   "outputs": [
    {
     "name": "stdout",
     "output_type": "stream",
     "text": [
      "El resultado de la tupla convertida se lee: ('rojo', 'verde', 'azul', 'amarillo', 'morado', 'morado')\n"
     ]
    }
   ],
   "source": [
    "# Las tuplas son inmutables, por lo que tendriamos que cambiar el tipo de variable a lista, agregar 'morado' ahi y convertirla de nuevo\n",
    "lista_tupla = list(colores)\n",
    "type(lista_tupla)\n",
    "lista_tupla.append(\"morado\")\n",
    "tupla_modificada = tuple(lista_tupla)\n",
    "type(tupla_modificada)\n",
    "print(\"El resultado de la tupla convertida se lee:\", tupla_modificada)\n"
   ]
  },
  {
   "cell_type": "markdown",
   "metadata": {},
   "source": [
    "PARTE 4: DICCIONARIOS"
   ]
  },
  {
   "cell_type": "markdown",
   "metadata": {},
   "source": [
    "EJERCICIO 1"
   ]
  },
  {
   "cell_type": "code",
   "execution_count": 127,
   "metadata": {},
   "outputs": [
    {
     "name": "stdout",
     "output_type": "stream",
     "text": [
      "{'manzana': 2, 'banana': 3, 'uva': 5, 'pera': 4}\n"
     ]
    }
   ],
   "source": [
    "frutas = {\"manzana\" : 2, \"banana\" : 3, \"uva\" : 5,\"pera\" : 4}\n",
    "print(frutas)"
   ]
  },
  {
   "cell_type": "markdown",
   "metadata": {},
   "source": [
    "EJERCICIO 2"
   ]
  },
  {
   "cell_type": "code",
   "execution_count": 128,
   "metadata": {},
   "outputs": [
    {
     "name": "stdout",
     "output_type": "stream",
     "text": [
      "Esta es la lista de las frutas en el diccionario: ['manzana', 'banana', 'uva', 'pera']\n"
     ]
    }
   ],
   "source": [
    "lista_frutas = list(frutas.keys())\n",
    "print(\"Esta es la lista de las frutas en el diccionario:\", lista_frutas)"
   ]
  },
  {
   "cell_type": "markdown",
   "metadata": {},
   "source": [
    "EJERCICIO 3"
   ]
  },
  {
   "cell_type": "code",
   "execution_count": 129,
   "metadata": {},
   "outputs": [
    {
     "name": "stdout",
     "output_type": "stream",
     "text": [
      "Esta es la lista de las cantidades en el diccionario: [2, 3, 5, 4]\n"
     ]
    }
   ],
   "source": [
    "lista_cantidades = list(frutas.values())\n",
    "print(\"Esta es la lista de las cantidades en el diccionario:\", lista_cantidades)"
   ]
  },
  {
   "cell_type": "markdown",
   "metadata": {},
   "source": [
    "EJERCICIO 4"
   ]
  },
  {
   "cell_type": "code",
   "execution_count": 130,
   "metadata": {},
   "outputs": [
    {
     "name": "stdout",
     "output_type": "stream",
     "text": [
      "Que cantidad de manzanas tenemos?: 2\n"
     ]
    }
   ],
   "source": [
    "frutas.get(\"manzana\")\n",
    "print(\"Que cantidad de manzanas tenemos?:\", frutas.get(\"manzana\"))"
   ]
  },
  {
   "cell_type": "markdown",
   "metadata": {},
   "source": [
    "EJERCICIO 5"
   ]
  },
  {
   "cell_type": "code",
   "execution_count": 131,
   "metadata": {},
   "outputs": [
    {
     "name": "stdout",
     "output_type": "stream",
     "text": [
      "Este es el diccionario con el nuevo par clave-valor: {'manzana': 2, 'banana': 3, 'uva': 5, 'pera': 4, 'kiwi': 6}\n"
     ]
    }
   ],
   "source": [
    "nuevo_par = {\"kiwi\" : 6}\n",
    "frutas.update(nuevo_par)\n",
    "print(\"Este es el diccionario con el nuevo par clave-valor:\", frutas)"
   ]
  },
  {
   "cell_type": "markdown",
   "metadata": {},
   "source": [
    "EJERCICIO 6"
   ]
  },
  {
   "cell_type": "code",
   "execution_count": 132,
   "metadata": {},
   "outputs": [
    {
     "name": "stdout",
     "output_type": "stream",
     "text": [
      "Este es el diccionario con la cantidad de uva cambiada: {'manzana': 2, 'banana': 3, 'uva': 8, 'pera': 4, 'kiwi': 6}\n"
     ]
    }
   ],
   "source": [
    "frutas[\"uva\"] = 8\n",
    "print(\"Este es el diccionario con la cantidad de uva cambiada:\", frutas)"
   ]
  },
  {
   "cell_type": "markdown",
   "metadata": {},
   "source": [
    "EJERCICIO 7"
   ]
  },
  {
   "cell_type": "code",
   "execution_count": 133,
   "metadata": {},
   "outputs": [
    {
     "name": "stdout",
     "output_type": "stream",
     "text": [
      "Este es el nuevo diccionario: {'sandia': 7, 'mango': 4}\n"
     ]
    }
   ],
   "source": [
    "frutas_nuevas = {\"sandia\" : 7, \"mango\" : 4}\n",
    "print(\"Este es el nuevo diccionario:\", frutas_nuevas)"
   ]
  },
  {
   "cell_type": "markdown",
   "metadata": {},
   "source": [
    "EJERCICIO 8"
   ]
  },
  {
   "cell_type": "code",
   "execution_count": 134,
   "metadata": {},
   "outputs": [
    {
     "name": "stdout",
     "output_type": "stream",
     "text": [
      "{'manzana': 2, 'banana': 3, 'uva': 8, 'pera': 4, 'kiwi': 6, 'sandia': 7, 'mango': 4}\n"
     ]
    },
    {
     "data": {
      "text/plain": [
       "dict"
      ]
     },
     "execution_count": 134,
     "metadata": {},
     "output_type": "execute_result"
    }
   ],
   "source": [
    "frutas_total = frutas | frutas_nuevas\n",
    "print(frutas_total)\n",
    "type(frutas_total)\n"
   ]
  },
  {
   "cell_type": "markdown",
   "metadata": {},
   "source": [
    "EJERCICIO 9"
   ]
  },
  {
   "cell_type": "code",
   "execution_count": 135,
   "metadata": {},
   "outputs": [
    {
     "name": "stdout",
     "output_type": "stream",
     "text": [
      "El nuevo diccionario despues de eliminar el ultimo par de clave-valor se lee: {'manzana': 2, 'banana': 3, 'uva': 8, 'pera': 4, 'kiwi': 6, 'sandia': 7}\n"
     ]
    }
   ],
   "source": [
    "frutas_total.popitem()\n",
    "print(\"El nuevo diccionario despues de eliminar el ultimo par de clave-valor se lee:\", frutas_total)\n"
   ]
  },
  {
   "cell_type": "markdown",
   "metadata": {},
   "source": [
    "EJERCICIO 10"
   ]
  },
  {
   "cell_type": "code",
   "execution_count": 136,
   "metadata": {},
   "outputs": [
    {
     "name": "stdout",
     "output_type": "stream",
     "text": [
      "El nuevo diccionario despues de eliminar el par clave-valor de uva se lee: {'manzana': 2, 'banana': 3, 'pera': 4, 'kiwi': 6, 'sandia': 7}\n"
     ]
    }
   ],
   "source": [
    "frutas_total.pop(\"uva\")\n",
    "print(\"El nuevo diccionario despues de eliminar el par clave-valor de uva se lee:\", frutas_total)"
   ]
  },
  {
   "cell_type": "markdown",
   "metadata": {},
   "source": [
    "EJERCICIO 11"
   ]
  },
  {
   "cell_type": "code",
   "execution_count": null,
   "metadata": {},
   "outputs": [],
   "source": []
  },
  {
   "cell_type": "markdown",
   "metadata": {},
   "source": [
    "EJERCICIO 12"
   ]
  },
  {
   "cell_type": "code",
   "execution_count": null,
   "metadata": {},
   "outputs": [],
   "source": []
  },
  {
   "cell_type": "markdown",
   "metadata": {},
   "source": [
    "PARTE 5: METODOS DE SETS"
   ]
  },
  {
   "cell_type": "markdown",
   "metadata": {},
   "source": [
    "EJERCICIO 13"
   ]
  },
  {
   "cell_type": "code",
   "execution_count": 111,
   "metadata": {},
   "outputs": [
    {
     "name": "stdout",
     "output_type": "stream",
     "text": [
      "Este es el primer set: {1, 2, 3, 4, 5}\n"
     ]
    },
    {
     "data": {
      "text/plain": [
       "set"
      ]
     },
     "execution_count": 111,
     "metadata": {},
     "output_type": "execute_result"
    }
   ],
   "source": [
    "conjunto1 = {1, 2, 3, 4, 5}\n",
    "print(\"Este es el primer set:\", conjunto1)\n",
    "type(conjunto1)"
   ]
  },
  {
   "cell_type": "markdown",
   "metadata": {},
   "source": [
    "EJERCICIO 14"
   ]
  },
  {
   "cell_type": "code",
   "execution_count": 112,
   "metadata": {},
   "outputs": [
    {
     "name": "stdout",
     "output_type": "stream",
     "text": [
      "Este es el segundo set: {4, 5, 6, 7, 8}\n"
     ]
    },
    {
     "data": {
      "text/plain": [
       "set"
      ]
     },
     "execution_count": 112,
     "metadata": {},
     "output_type": "execute_result"
    }
   ],
   "source": [
    "conjunto2 = {4, 5, 6, 7 ,8}\n",
    "print(\"Este es el segundo set:\", conjunto2)\n",
    "type(conjunto2)"
   ]
  },
  {
   "cell_type": "markdown",
   "metadata": {},
   "source": [
    "EJERCICIO 15"
   ]
  },
  {
   "cell_type": "code",
   "execution_count": 113,
   "metadata": {},
   "outputs": [
    {
     "name": "stdout",
     "output_type": "stream",
     "text": [
      "Esta es la union de ambos sets: {1, 2, 3, 4, 5, 6, 7, 8}\n"
     ]
    }
   ],
   "source": [
    "set_union = conjunto1.union(conjunto2)\n",
    "print(\"Esta es la union de ambos sets:\", set_union)"
   ]
  },
  {
   "cell_type": "markdown",
   "metadata": {},
   "source": [
    "EJERCICIO 16"
   ]
  },
  {
   "cell_type": "code",
   "execution_count": 117,
   "metadata": {},
   "outputs": [
    {
     "name": "stdout",
     "output_type": "stream",
     "text": [
      "Esta es la interseccion de ambos sets: {4, 5} es decir, los elementos que tienen en comun.\n"
     ]
    }
   ],
   "source": [
    "set_interseccion = conjunto1.intersection(conjunto2)\n",
    "print(\"Esta es la interseccion de ambos sets:\", set_interseccion, \"es decir, los elementos que tienen en comun.\")"
   ]
  },
  {
   "cell_type": "markdown",
   "metadata": {},
   "source": [
    "EJERCICIO 17"
   ]
  },
  {
   "cell_type": "code",
   "execution_count": 119,
   "metadata": {},
   "outputs": [
    {
     "name": "stdout",
     "output_type": "stream",
     "text": [
      "Los elementos que estan en el primer set pero no en el segundo son: {1, 2, 3}\n"
     ]
    }
   ],
   "source": [
    "set_diferencia  = conjunto1.difference(conjunto2)\n",
    "print(\"Los elementos que estan en el primer set pero no en el segundo son:\", set_diferencia)"
   ]
  },
  {
   "cell_type": "markdown",
   "metadata": {},
   "source": [
    "PARTE 6: SENTENCIAS DE CONTROL"
   ]
  },
  {
   "cell_type": "markdown",
   "metadata": {},
   "source": [
    "EJERCICIO 1"
   ]
  },
  {
   "cell_type": "code",
   "execution_count": 139,
   "metadata": {},
   "outputs": [
    {
     "name": "stdout",
     "output_type": "stream",
     "text": [
      "Eres adulto.\n"
     ]
    }
   ],
   "source": [
    "edad_usuario = int(input(\"Introduce tu edad\"))\n",
    "if edad_usuario < 18:\n",
    "    print(\"Eres menor de edad.\")\n",
    "elif 18 <= edad_usuario <= 65:\n",
    "    print(\"Eres adulto.\")\n",
    "elif edad_usuario > 65:\n",
    "    print(\"Eres un adulto mayor.\")"
   ]
  },
  {
   "cell_type": "markdown",
   "metadata": {},
   "source": [
    "EJERCICIO 2"
   ]
  },
  {
   "cell_type": "code",
   "execution_count": 141,
   "metadata": {},
   "outputs": [
    {
     "name": "stdout",
     "output_type": "stream",
     "text": [
      "Es viernes.\n"
     ]
    }
   ],
   "source": [
    "numero_usuario = int(input(\"Introduce un numero del 1 al 7\"))\n",
    "if numero_usuario == 1:\n",
    "    print(\"Es lunes.\")\n",
    "elif numero_usuario == 2:\n",
    "    print(\"Es martes.\")\n",
    "elif numero_usuario == 3:\n",
    "    print(\"Es miercoles.\")\n",
    "elif numero_usuario == 4:\n",
    "    print(\"Es jueves.\")\n",
    "elif numero_usuario == 5:\n",
    "    print(\"Es viernes.\")\n",
    "elif numero_usuario == 6:\n",
    "    print(\"Es sabado.\")\n",
    "else:\n",
    "    print(\"Es domingo.\")"
   ]
  },
  {
   "cell_type": "markdown",
   "metadata": {},
   "source": [
    "EJERCICIO 3"
   ]
  },
  {
   "cell_type": "code",
   "execution_count": 147,
   "metadata": {},
   "outputs": [
    {
     "ename": "SyntaxError",
     "evalue": "invalid syntax (2879774762.py, line 7)",
     "output_type": "error",
     "traceback": [
      "\u001b[0;36m  Cell \u001b[0;32mIn[147], line 7\u001b[0;36m\u001b[0m\n\u001b[0;31m    or ((adivina_numero != numero_aleatorio) and (adivina_numero > numero_aleatorio)) == True:\u001b[0m\n\u001b[0m    ^\u001b[0m\n\u001b[0;31mSyntaxError\u001b[0m\u001b[0;31m:\u001b[0m invalid syntax\n"
     ]
    }
   ],
   "source": [
    "import random\n",
    "numero_aleatorio = random.randint(1,100)\n",
    "print(numero_aleatorio)\n",
    "adivina_numero = int(input(\"Adivina un numero del 1 al 100\"))\n",
    "while ((adivina_numero != numero_aleatorio) and (adivina_numero < numero_aleatorio)) == True:\n",
    "    print(\"Uy, has fallado! Una pista: el numero que buscamos es mayor. Intentalo de nuevo.\")\n",
    "or ((adivina_numero != numero_aleatorio) and (adivina_numero > numero_aleatorio)) == True:\n",
    "    print(\"Uy, has fallado! Una pista: el numero que buscamos es menor. Llevas Intentalo de nuevo.\")\n",
    "if adivina_numero == numero_aleatorio:\n",
    "    print(\"Ganaste en el primer intento!\")"
   ]
  },
  {
   "cell_type": "markdown",
   "metadata": {},
   "source": [
    "EJERCICIO 4"
   ]
  },
  {
   "cell_type": "code",
   "execution_count": null,
   "metadata": {},
   "outputs": [],
   "source": []
  }
 ],
 "metadata": {
  "kernelspec": {
   "display_name": "base",
   "language": "python",
   "name": "python3"
  },
  "language_info": {
   "codemirror_mode": {
    "name": "ipython",
    "version": 3
   },
   "file_extension": ".py",
   "mimetype": "text/x-python",
   "name": "python",
   "nbconvert_exporter": "python",
   "pygments_lexer": "ipython3",
   "version": "3.12.4"
  }
 },
 "nbformat": 4,
 "nbformat_minor": 2
}
